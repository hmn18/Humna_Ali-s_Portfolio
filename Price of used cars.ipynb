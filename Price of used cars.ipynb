{
 "cells": [
  {
   "cell_type": "code",
   "execution_count": 24,
   "id": "998f735f-f4ff-42d7-9c62-be0e3e9ffbe5",
   "metadata": {},
   "outputs": [],
   "source": [
    "import pandas as pd\n",
    "import numpy as np\n",
    "import matplotlib.pyplot as plt\n",
    "import statsmodels.api as sm"
   ]
  },
  {
   "cell_type": "code",
   "execution_count": 5,
   "id": "7adc21ea-b7b8-42a0-8a34-7029abb3b593",
   "metadata": {},
   "outputs": [
    {
     "data": {
      "text/html": [
       "<div>\n",
       "<style scoped>\n",
       "    .dataframe tbody tr th:only-of-type {\n",
       "        vertical-align: middle;\n",
       "    }\n",
       "\n",
       "    .dataframe tbody tr th {\n",
       "        vertical-align: top;\n",
       "    }\n",
       "\n",
       "    .dataframe thead th {\n",
       "        text-align: right;\n",
       "    }\n",
       "</style>\n",
       "<table border=\"1\" class=\"dataframe\">\n",
       "  <thead>\n",
       "    <tr style=\"text-align: right;\">\n",
       "      <th></th>\n",
       "      <th>usedCarSkuId</th>\n",
       "      <th>loc</th>\n",
       "      <th>myear</th>\n",
       "      <th>body</th>\n",
       "      <th>transmission</th>\n",
       "      <th>fuel</th>\n",
       "      <th>km</th>\n",
       "      <th>ip</th>\n",
       "      <th>images</th>\n",
       "      <th>imgCount</th>\n",
       "      <th>...</th>\n",
       "      <th>Fuel Suppy System</th>\n",
       "      <th>Compression Ratio</th>\n",
       "      <th>Alloy Wheel Size</th>\n",
       "      <th>Ground Clearance Unladen</th>\n",
       "      <th>Max Power Delivered</th>\n",
       "      <th>Max Power At</th>\n",
       "      <th>Max Torque Delivered</th>\n",
       "      <th>Max Torque At</th>\n",
       "      <th>Bore</th>\n",
       "      <th>Stroke</th>\n",
       "    </tr>\n",
       "  </thead>\n",
       "  <tbody>\n",
       "    <tr>\n",
       "      <th>0</th>\n",
       "      <td>7111bf25-97af-47f9-867b-40879190d800</td>\n",
       "      <td>gomti nagar</td>\n",
       "      <td>2016</td>\n",
       "      <td>hatchback</td>\n",
       "      <td>manual</td>\n",
       "      <td>cng</td>\n",
       "      <td>69162.0</td>\n",
       "      <td>0</td>\n",
       "      <td>[{'img': 'https://images10.gaadi.com/usedcar_i...</td>\n",
       "      <td>15</td>\n",
       "      <td>...</td>\n",
       "      <td>NaN</td>\n",
       "      <td>NaN</td>\n",
       "      <td>NaN</td>\n",
       "      <td>NaN</td>\n",
       "      <td>58.16</td>\n",
       "      <td>6200.0</td>\n",
       "      <td>77.0</td>\n",
       "      <td>3500.0</td>\n",
       "      <td>69.0</td>\n",
       "      <td>NaN</td>\n",
       "    </tr>\n",
       "    <tr>\n",
       "      <th>1</th>\n",
       "      <td>c309efc1-efaf-4f82-81ad-dcb38eb36665</td>\n",
       "      <td>borivali west</td>\n",
       "      <td>2015</td>\n",
       "      <td>hatchback</td>\n",
       "      <td>manual</td>\n",
       "      <td>cng</td>\n",
       "      <td>45864.0</td>\n",
       "      <td>0</td>\n",
       "      <td>[{'img': 'https://images10.gaadi.com/usedcar_i...</td>\n",
       "      <td>15</td>\n",
       "      <td>...</td>\n",
       "      <td>Gasoline Port Injection</td>\n",
       "      <td>11.0</td>\n",
       "      <td>NaN</td>\n",
       "      <td>NaN</td>\n",
       "      <td>58.20</td>\n",
       "      <td>6000.0</td>\n",
       "      <td>78.0</td>\n",
       "      <td>3500.0</td>\n",
       "      <td>73.0</td>\n",
       "      <td>NaN</td>\n",
       "    </tr>\n",
       "    <tr>\n",
       "      <th>2</th>\n",
       "      <td>7609f710-0c97-4f00-9a47-9b9284b62d3a</td>\n",
       "      <td>jasola</td>\n",
       "      <td>2015</td>\n",
       "      <td>sedan</td>\n",
       "      <td>manual</td>\n",
       "      <td>cng</td>\n",
       "      <td>81506.0</td>\n",
       "      <td>0</td>\n",
       "      <td>[{'img': 'https://images10.gaadi.com/usedcar_i...</td>\n",
       "      <td>15</td>\n",
       "      <td>...</td>\n",
       "      <td>NaN</td>\n",
       "      <td>NaN</td>\n",
       "      <td>NaN</td>\n",
       "      <td>NaN</td>\n",
       "      <td>86.70</td>\n",
       "      <td>6000.0</td>\n",
       "      <td>109.0</td>\n",
       "      <td>4500.0</td>\n",
       "      <td>NaN</td>\n",
       "      <td>NaN</td>\n",
       "    </tr>\n",
       "    <tr>\n",
       "      <th>3</th>\n",
       "      <td>278b76e3-5539-4a5e-ae3e-353a2e3b6d7d</td>\n",
       "      <td>jasola</td>\n",
       "      <td>2013</td>\n",
       "      <td>hatchback</td>\n",
       "      <td>manual</td>\n",
       "      <td>cng</td>\n",
       "      <td>115893.0</td>\n",
       "      <td>0</td>\n",
       "      <td>[{'img': ''}]</td>\n",
       "      <td>0</td>\n",
       "      <td>...</td>\n",
       "      <td>Multi-Point Fuel Injection</td>\n",
       "      <td>NaN</td>\n",
       "      <td>13.0</td>\n",
       "      <td>NaN</td>\n",
       "      <td>58.20</td>\n",
       "      <td>6200.0</td>\n",
       "      <td>77.0</td>\n",
       "      <td>3500.0</td>\n",
       "      <td>NaN</td>\n",
       "      <td>NaN</td>\n",
       "    </tr>\n",
       "    <tr>\n",
       "      <th>4</th>\n",
       "      <td>b1eab99b-a606-48dd-a75b-57feb8a9ad92</td>\n",
       "      <td>mumbai g.p.o.</td>\n",
       "      <td>2022</td>\n",
       "      <td>muv</td>\n",
       "      <td>manual</td>\n",
       "      <td>cng</td>\n",
       "      <td>18900.0</td>\n",
       "      <td>0</td>\n",
       "      <td>[{'img': 'https://images10.gaadi.com/usedcar_i...</td>\n",
       "      <td>6</td>\n",
       "      <td>...</td>\n",
       "      <td>NaN</td>\n",
       "      <td>12.0</td>\n",
       "      <td>NaN</td>\n",
       "      <td>NaN</td>\n",
       "      <td>86.63</td>\n",
       "      <td>5500.0</td>\n",
       "      <td>121.5</td>\n",
       "      <td>4200.0</td>\n",
       "      <td>NaN</td>\n",
       "      <td>NaN</td>\n",
       "    </tr>\n",
       "  </tbody>\n",
       "</table>\n",
       "<p>5 rows × 66 columns</p>\n",
       "</div>"
      ],
      "text/plain": [
       "                           usedCarSkuId            loc  myear       body  \\\n",
       "0  7111bf25-97af-47f9-867b-40879190d800    gomti nagar   2016  hatchback   \n",
       "1  c309efc1-efaf-4f82-81ad-dcb38eb36665  borivali west   2015  hatchback   \n",
       "2  7609f710-0c97-4f00-9a47-9b9284b62d3a         jasola   2015      sedan   \n",
       "3  278b76e3-5539-4a5e-ae3e-353a2e3b6d7d         jasola   2013  hatchback   \n",
       "4  b1eab99b-a606-48dd-a75b-57feb8a9ad92  mumbai g.p.o.   2022        muv   \n",
       "\n",
       "  transmission fuel        km  ip  \\\n",
       "0       manual  cng   69162.0   0   \n",
       "1       manual  cng   45864.0   0   \n",
       "2       manual  cng   81506.0   0   \n",
       "3       manual  cng  115893.0   0   \n",
       "4       manual  cng   18900.0   0   \n",
       "\n",
       "                                              images  imgCount  ...  \\\n",
       "0  [{'img': 'https://images10.gaadi.com/usedcar_i...        15  ...   \n",
       "1  [{'img': 'https://images10.gaadi.com/usedcar_i...        15  ...   \n",
       "2  [{'img': 'https://images10.gaadi.com/usedcar_i...        15  ...   \n",
       "3                                      [{'img': ''}]         0  ...   \n",
       "4  [{'img': 'https://images10.gaadi.com/usedcar_i...         6  ...   \n",
       "\n",
       "            Fuel Suppy System Compression Ratio Alloy Wheel Size  \\\n",
       "0                         NaN               NaN              NaN   \n",
       "1     Gasoline Port Injection              11.0              NaN   \n",
       "2                         NaN               NaN              NaN   \n",
       "3  Multi-Point Fuel Injection               NaN             13.0   \n",
       "4                         NaN              12.0              NaN   \n",
       "\n",
       "  Ground Clearance Unladen Max Power Delivered Max Power At  \\\n",
       "0                      NaN               58.16       6200.0   \n",
       "1                      NaN               58.20       6000.0   \n",
       "2                      NaN               86.70       6000.0   \n",
       "3                      NaN               58.20       6200.0   \n",
       "4                      NaN               86.63       5500.0   \n",
       "\n",
       "   Max Torque Delivered  Max Torque At  Bore Stroke  \n",
       "0                  77.0         3500.0  69.0    NaN  \n",
       "1                  78.0         3500.0  73.0    NaN  \n",
       "2                 109.0         4500.0   NaN    NaN  \n",
       "3                  77.0         3500.0   NaN    NaN  \n",
       "4                 121.5         4200.0   NaN    NaN  \n",
       "\n",
       "[5 rows x 66 columns]"
      ]
     },
     "execution_count": 5,
     "metadata": {},
     "output_type": "execute_result"
    }
   ],
   "source": [
    "df = pd.read_csv(\"C:/users/humna/Downloads/cars_data_clean.csv\")\n",
    "df.head()"
   ]
  },
  {
   "cell_type": "code",
   "execution_count": 6,
   "id": "716ce51e-47f6-4534-9cd3-b295183754e1",
   "metadata": {},
   "outputs": [
    {
     "data": {
      "text/plain": [
       "-2.1789542659951375"
      ]
     },
     "execution_count": 6,
     "metadata": {},
     "output_type": "execute_result"
    }
   ],
   "source": [
    "beta_1,beta_0=np.polyfit(df['km'],df['listed_price'],1)\n",
    "beta_1"
   ]
  },
  {
   "cell_type": "code",
   "execution_count": 7,
   "id": "8275edd1-759b-4b86-b191-7e27b169e3da",
   "metadata": {},
   "outputs": [
    {
     "data": {
      "text/plain": [
       "935973.8135779747"
      ]
     },
     "execution_count": 7,
     "metadata": {},
     "output_type": "execute_result"
    }
   ],
   "source": [
    "beta_0"
   ]
  },
  {
   "cell_type": "code",
   "execution_count": 14,
   "id": "94e9bd30-4e0c-46e9-a92f-862c7a1f0cee",
   "metadata": {},
   "outputs": [
    {
     "data": {
      "text/plain": [
       "[<matplotlib.lines.Line2D at 0x1b0d15c4cd0>]"
      ]
     },
     "execution_count": 14,
     "metadata": {},
     "output_type": "execute_result"
    },
    {
     "data": {
      "image/png": "[encoded data removed]",
      "text/plain": [
       "<Figure size 640x480 with 1 Axes>"
      ]
     },
     "metadata": {},
     "output_type": "display_data"
    }
   ],
   "source": [
    "plt.scatter(df['km'],df['listed_price'],color=\"purple\")\n",
    "plt.plot(df['km'], beta_0 + beta_1*df['km'], color=\"black\", linestyle=\"-\", linewidth=2) "
   ]
  },
  {
   "cell_type": "code",
   "execution_count": 8,
   "id": "2591a30a-05bb-4016-bb3c-221ebf419ae2",
   "metadata": {},
   "outputs": [],
   "source": [
    "df['Predicted_Listed_Price']=beta_0+beta_1*df['km']\n",
    "df['Error']=df['listed_price']-df['Predicted_Listed_Price']\n",
    "df['Relative_Error']=df['Error']/df['listed_price']\n",
    "df['Absolute_Relative_Error'] = df['Relative_Error'].abs()\n",
    "MAPE=df['Absolute_Relative_Error'].mean()*100\n"
   ]
  },
  {
   "cell_type": "code",
   "execution_count": 9,
   "id": "4cc438c8-de66-4daa-842e-fe5313dfbc35",
   "metadata": {},
   "outputs": [
    {
     "data": {
      "text/plain": [
       "120.52233264444976"
      ]
     },
     "execution_count": 9,
     "metadata": {},
     "output_type": "execute_result"
    }
   ],
   "source": [
    "MAPE"
   ]
  },
  {
   "cell_type": "code",
   "execution_count": 10,
   "id": "71ac66f2-54ac-4913-a771-ade853707a74",
   "metadata": {},
   "outputs": [
    {
     "data": {
      "text/plain": [
       "3.4952994252805395e+17"
      ]
     },
     "execution_count": 10,
     "metadata": {},
     "output_type": "execute_result"
    }
   ],
   "source": [
    "ssr = ((df['listed_price'] - df['Predicted_Listed_Price']) ** 2).sum()\n",
    "ssr"
   ]
  },
  {
   "cell_type": "code",
   "execution_count": 11,
   "id": "0bdd5b7c-189f-4d78-bab2-e6cc7e81cd4a",
   "metadata": {},
   "outputs": [
    {
     "data": {
      "text/plain": [
       "3.501437387048216e+17"
      ]
     },
     "execution_count": 11,
     "metadata": {},
     "output_type": "execute_result"
    }
   ],
   "source": [
    "sst = ((df['listed_price'] - df['listed_price'].mean()) ** 2).sum()\n",
    "sst"
   ]
  },
  {
   "cell_type": "code",
   "execution_count": 12,
   "id": "258b95cf-2b57-4378-92e6-f9a22dbf09de",
   "metadata": {},
   "outputs": [
    {
     "data": {
      "text/plain": [
       "0.0017529834434226732"
      ]
     },
     "execution_count": 12,
     "metadata": {},
     "output_type": "execute_result"
    }
   ],
   "source": [
    "R2=1-(ssr/sst)\n",
    "R2"
   ]
  },
  {
   "cell_type": "code",
   "execution_count": 15,
   "id": "21740503-5db9-483c-b7df-e0f416d83934",
   "metadata": {},
   "outputs": [
    {
     "data": {
      "text/plain": [
       "0.0017265824750124503"
      ]
     },
     "execution_count": 15,
     "metadata": {},
     "output_type": "execute_result"
    }
   ],
   "source": [
    "n = len(df)\n",
    "p = 1\n",
    "adjusted_r_squared = 1 - (1 - R2) * (n - 1) / (n - p - 1)\n",
    "adjusted_r_squared"
   ]
  },
  {
   "cell_type": "code",
   "execution_count": 21,
   "id": "86ea6cf2-e495-49e7-b37e-682de79ae832",
   "metadata": {},
   "outputs": [],
   "source": [
    "df['Predicted_Listed_Price'] = beta_0 + beta_1 * df['km']\n"
   ]
  },
  {
   "cell_type": "code",
   "execution_count": 23,
   "id": "67022189-a2e5-4ffb-af71-de57b5c730f1",
   "metadata": {},
   "outputs": [
    {
     "data": {
      "text/plain": [
       "785272.9786332189"
      ]
     },
     "execution_count": 23,
     "metadata": {},
     "output_type": "execute_result"
    }
   ],
   "source": [
    "average_km_first_owner = 69162\n",
    "predicted_price_first_owner = beta_0 + beta_1 * average_km_first_owner\n",
    "predicted_price_first_owner\n",
    "\n"
   ]
  },
  {
   "cell_type": "code",
   "execution_count": 25,
   "id": "a25e4366-81a0-44bb-84db-8a6267323c11",
   "metadata": {},
   "outputs": [],
   "source": [
    "Y=df['listed_price']\n",
    "X=df['km']"
   ]
  },
  {
   "cell_type": "code",
   "execution_count": 26,
   "id": "10645a23-cd60-4edd-862b-2c28e9240ddf",
   "metadata": {},
   "outputs": [
    {
     "data": {
      "text/html": [
       "<table class=\"simpletable\">\n",
       "<caption>OLS Regression Results</caption>\n",
       "<tr>\n",
       "  <th>Dep. Variable:</th>      <td>listed_price</td>   <th>  R-squared:         </th>  <td>   0.002</td>  \n",
       "</tr>\n",
       "<tr>\n",
       "  <th>Model:</th>                   <td>OLS</td>       <th>  Adj. R-squared:    </th>  <td>   0.002</td>  \n",
       "</tr>\n",
       "<tr>\n",
       "  <th>Method:</th>             <td>Least Squares</td>  <th>  F-statistic:       </th>  <td>   66.40</td>  \n",
       "</tr>\n",
       "<tr>\n",
       "  <th>Date:</th>             <td>Sun, 19 Jan 2025</td> <th>  Prob (F-statistic):</th>  <td>3.80e-16</td>  \n",
       "</tr>\n",
       "<tr>\n",
       "  <th>Time:</th>                 <td>22:54:47</td>     <th>  Log-Likelihood:    </th> <td>-6.1811e+05</td>\n",
       "</tr>\n",
       "<tr>\n",
       "  <th>No. Observations:</th>      <td> 37813</td>      <th>  AIC:               </th>  <td>1.236e+06</td> \n",
       "</tr>\n",
       "<tr>\n",
       "  <th>Df Residuals:</th>          <td> 37811</td>      <th>  BIC:               </th>  <td>1.236e+06</td> \n",
       "</tr>\n",
       "<tr>\n",
       "  <th>Df Model:</th>              <td>     1</td>      <th>                     </th>      <td> </td>     \n",
       "</tr>\n",
       "<tr>\n",
       "  <th>Covariance Type:</th>      <td>nonrobust</td>    <th>                     </th>      <td> </td>     \n",
       "</tr>\n",
       "</table>\n",
       "<table class=\"simpletable\">\n",
       "<tr>\n",
       "    <td></td>       <th>coef</th>     <th>std err</th>      <th>t</th>      <th>P>|t|</th>  <th>[0.025</th>    <th>0.975]</th>  \n",
       "</tr>\n",
       "<tr>\n",
       "  <th>const</th> <td>  9.36e+05</td> <td> 2.29e+04</td> <td>   40.928</td> <td> 0.000</td> <td> 8.91e+05</td> <td> 9.81e+05</td>\n",
       "</tr>\n",
       "<tr>\n",
       "  <th>km</th>    <td>   -2.1790</td> <td>    0.267</td> <td>   -8.149</td> <td> 0.000</td> <td>   -2.703</td> <td>   -1.655</td>\n",
       "</tr>\n",
       "</table>\n",
       "<table class=\"simpletable\">\n",
       "<tr>\n",
       "  <th>Omnibus:</th>       <td>172464.231</td> <th>  Durbin-Watson:     </th>     <td>   1.906</td>     \n",
       "</tr>\n",
       "<tr>\n",
       "  <th>Prob(Omnibus):</th>   <td> 0.000</td>   <th>  Jarque-Bera (JB):  </th> <td>1251994540228.492</td>\n",
       "</tr>\n",
       "<tr>\n",
       "  <th>Skew:</th>            <td>157.049</td>  <th>  Prob(JB):          </th>     <td>    0.00</td>     \n",
       "</tr>\n",
       "<tr>\n",
       "  <th>Kurtosis:</th>       <td>28190.679</td> <th>  Cond. No.          </th>     <td>1.25e+05</td>     \n",
       "</tr>\n",
       "</table><br/><br/>Notes:<br/>[1] Standard Errors assume that the covariance matrix of the errors is correctly specified.<br/>[2] The condition number is large, 1.25e+05. This might indicate that there are<br/>strong multicollinearity or other numerical problems."
      ],
      "text/latex": [
       "\\begin{center}\n",
       "\\begin{tabular}{lclc}\n",
       "\\toprule\n",
       "\\textbf{Dep. Variable:}    &  listed\\_price   & \\textbf{  R-squared:         } &         0.002      \\\\\n",
       "\\textbf{Model:}            &       OLS        & \\textbf{  Adj. R-squared:    } &         0.002      \\\\\n",
       "\\textbf{Method:}           &  Least Squares   & \\textbf{  F-statistic:       } &         66.40      \\\\\n",
       "\\textbf{Date:}             & Sun, 19 Jan 2025 & \\textbf{  Prob (F-statistic):} &      3.80e-16      \\\\\n",
       "\\textbf{Time:}             &     22:54:47     & \\textbf{  Log-Likelihood:    } &    -6.1811e+05     \\\\\n",
       "\\textbf{No. Observations:} &       37813      & \\textbf{  AIC:               } &     1.236e+06      \\\\\n",
       "\\textbf{Df Residuals:}     &       37811      & \\textbf{  BIC:               } &     1.236e+06      \\\\\n",
       "\\textbf{Df Model:}         &           1      & \\textbf{                     } &                    \\\\\n",
       "\\textbf{Covariance Type:}  &    nonrobust     & \\textbf{                     } &                    \\\\\n",
       "\\bottomrule\n",
       "\\end{tabular}\n",
       "\\begin{tabular}{lcccccc}\n",
       "               & \\textbf{coef} & \\textbf{std err} & \\textbf{t} & \\textbf{P$> |$t$|$} & \\textbf{[0.025} & \\textbf{0.975]}  \\\\\n",
       "\\midrule\n",
       "\\textbf{const} &     9.36e+05  &     2.29e+04     &    40.928  &         0.000        &     8.91e+05    &     9.81e+05     \\\\\n",
       "\\textbf{km}    &      -2.1790  &        0.267     &    -8.149  &         0.000        &       -2.703    &       -1.655     \\\\\n",
       "\\bottomrule\n",
       "\\end{tabular}\n",
       "\\begin{tabular}{lclc}\n",
       "\\textbf{Omnibus:}       & 172464.231 & \\textbf{  Durbin-Watson:     } &         1.906      \\\\\n",
       "\\textbf{Prob(Omnibus):} &    0.000   & \\textbf{  Jarque-Bera (JB):  } & 1251994540228.492  \\\\\n",
       "\\textbf{Skew:}          &  157.049   & \\textbf{  Prob(JB):          } &          0.00      \\\\\n",
       "\\textbf{Kurtosis:}      & 28190.679  & \\textbf{  Cond. No.          } &      1.25e+05      \\\\\n",
       "\\bottomrule\n",
       "\\end{tabular}\n",
       "%\\caption{OLS Regression Results}\n",
       "\\end{center}\n",
       "\n",
       "Notes: \\newline\n",
       " [1] Standard Errors assume that the covariance matrix of the errors is correctly specified. \\newline\n",
       " [2] The condition number is large, 1.25e+05. This might indicate that there are \\newline\n",
       " strong multicollinearity or other numerical problems."
      ],
      "text/plain": [
       "<class 'statsmodels.iolib.summary.Summary'>\n",
       "\"\"\"\n",
       "                            OLS Regression Results                            \n",
       "==============================================================================\n",
       "Dep. Variable:           listed_price   R-squared:                       0.002\n",
       "Model:                            OLS   Adj. R-squared:                  0.002\n",
       "Method:                 Least Squares   F-statistic:                     66.40\n",
       "Date:                Sun, 19 Jan 2025   Prob (F-statistic):           3.80e-16\n",
       "Time:                        22:54:47   Log-Likelihood:            -6.1811e+05\n",
       "No. Observations:               37813   AIC:                         1.236e+06\n",
       "Df Residuals:                   37811   BIC:                         1.236e+06\n",
       "Df Model:                           1                                         \n",
       "Covariance Type:            nonrobust                                         \n",
       "==============================================================================\n",
       "                 coef    std err          t      P>|t|      [0.025      0.975]\n",
       "------------------------------------------------------------------------------\n",
       "const        9.36e+05   2.29e+04     40.928      0.000    8.91e+05    9.81e+05\n",
       "km            -2.1790      0.267     -8.149      0.000      -2.703      -1.655\n",
       "==============================================================================\n",
       "Omnibus:                   172464.231   Durbin-Watson:                   1.906\n",
       "Prob(Omnibus):                  0.000   Jarque-Bera (JB):    1251994540228.492\n",
       "Skew:                         157.049   Prob(JB):                         0.00\n",
       "Kurtosis:                   28190.679   Cond. No.                     1.25e+05\n",
       "==============================================================================\n",
       "\n",
       "Notes:\n",
       "[1] Standard Errors assume that the covariance matrix of the errors is correctly specified.\n",
       "[2] The condition number is large, 1.25e+05. This might indicate that there are\n",
       "strong multicollinearity or other numerical problems.\n",
       "\"\"\""
      ]
     },
     "execution_count": 26,
     "metadata": {},
     "output_type": "execute_result"
    }
   ],
   "source": [
    "X=sm.add_constant(X)\n",
    "model=sm.OLS(Y,X)\n",
    "model_result=model.fit()\n",
    "model_result.summary()"
   ]
  },
  {
   "cell_type": "code",
   "execution_count": 27,
   "id": "a6a911eb-73dc-4fb4-a318-03dc145065f8",
   "metadata": {},
   "outputs": [],
   "source": [
    "beta_0=936000\n",
    "beta_1=-2.1790"
   ]
  },
  {
   "cell_type": "code",
   "execution_count": 28,
   "id": "a4abe716-dc19-46fc-a01c-e6fd134e1ed4",
   "metadata": {},
   "outputs": [
    {
     "data": {
      "text/plain": [
       "785296.002"
      ]
     },
     "execution_count": 28,
     "metadata": {},
     "output_type": "execute_result"
    }
   ],
   "source": [
    "Y_pred=beta_0+beta_1*69162\n",
    "Y_pred"
   ]
  },
  {
   "cell_type": "code",
   "execution_count": null,
   "id": "041f9be1-d4c5-40c3-a8a8-aea7a22a6ce6",
   "metadata": {},
   "outputs": [],
   "source": []
  }
 ],
 "metadata": {
  "kernelspec": {
   "display_name": "Python 3 (ipykernel)",
   "language": "python",
   "name": "python3"
  },
  "language_info": {
   "codemirror_mode": {
    "name": "ipython",
    "version": 3
   },
   "file_extension": ".py",
   "mimetype": "text/x-python",
   "name": "python",
   "nbconvert_exporter": "python",
   "pygments_lexer": "ipython3",
   "version": "3.11.7"
  }
 },
 "nbformat": 4,
 "nbformat_minor": 5
}
